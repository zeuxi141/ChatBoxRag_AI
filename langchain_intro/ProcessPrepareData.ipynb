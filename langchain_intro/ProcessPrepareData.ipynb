{
 "cells": [
  {
   "cell_type": "code",
   "execution_count": 2,
   "metadata": {},
   "outputs": [
    {
     "name": "stdout",
     "output_type": "stream",
     "text": [
      "Collecting PyPDF2\n",
      "  Downloading pypdf2-3.0.1-py3-none-any.whl.metadata (6.8 kB)\n",
      "Downloading pypdf2-3.0.1-py3-none-any.whl (232 kB)\n",
      "\u001b[2K   \u001b[90m━━━━━━━━━━━━━━━━━━━━━━━━━━━━━━━━━━━━━━━━\u001b[0m \u001b[32m232.6/232.6 kB\u001b[0m \u001b[31m3.8 MB/s\u001b[0m eta \u001b[36m0:00:00\u001b[0m \u001b[36m0:00:01\u001b[0m\n",
      "\u001b[?25hInstalling collected packages: PyPDF2\n",
      "Successfully installed PyPDF2-3.0.1\n",
      "\n",
      "\u001b[1m[\u001b[0m\u001b[34;49mnotice\u001b[0m\u001b[1;39;49m]\u001b[0m\u001b[39;49m A new release of pip is available: \u001b[0m\u001b[31;49m24.0\u001b[0m\u001b[39;49m -> \u001b[0m\u001b[32;49m24.2\u001b[0m\n",
      "\u001b[1m[\u001b[0m\u001b[34;49mnotice\u001b[0m\u001b[1;39;49m]\u001b[0m\u001b[39;49m To update, run: \u001b[0m\u001b[32;49mpip install --upgrade pip\u001b[0m\n",
      "Note: you may need to restart the kernel to use updated packages.\n"
     ]
    }
   ],
   "source": [
    "pip install PyPDF2"
   ]
  },
  {
   "cell_type": "code",
   "execution_count": 5,
   "metadata": {},
   "outputs": [
    {
     "name": "stdout",
     "output_type": "stream",
     "text": [
      "Collecting pandas\n",
      "  Downloading pandas-2.2.2-cp311-cp311-manylinux_2_17_x86_64.manylinux2014_x86_64.whl.metadata (19 kB)\n",
      "Requirement already satisfied: numpy>=1.23.2 in /home/user/chatboxragai/.venv/lib/python3.11/site-packages (from pandas) (1.26.4)\n",
      "Requirement already satisfied: python-dateutil>=2.8.2 in /home/user/chatboxragai/.venv/lib/python3.11/site-packages (from pandas) (2.9.0.post0)\n",
      "Collecting pytz>=2020.1 (from pandas)\n",
      "  Downloading pytz-2024.1-py2.py3-none-any.whl.metadata (22 kB)\n",
      "Collecting tzdata>=2022.7 (from pandas)\n",
      "  Downloading tzdata-2024.1-py2.py3-none-any.whl.metadata (1.4 kB)\n",
      "Requirement already satisfied: six>=1.5 in /home/user/chatboxragai/.venv/lib/python3.11/site-packages (from python-dateutil>=2.8.2->pandas) (1.16.0)\n",
      "Downloading pandas-2.2.2-cp311-cp311-manylinux_2_17_x86_64.manylinux2014_x86_64.whl (13.0 MB)\n",
      "\u001b[2K   \u001b[90m━━━━━━━━━━━━━━━━━━━━━━━━━━━━━━━━━━━━━━━━\u001b[0m \u001b[32m13.0/13.0 MB\u001b[0m \u001b[31m29.2 MB/s\u001b[0m eta \u001b[36m0:00:00\u001b[0m00:01\u001b[0m00:01\u001b[0m\n",
      "\u001b[?25hDownloading pytz-2024.1-py2.py3-none-any.whl (505 kB)\n",
      "\u001b[2K   \u001b[90m━━━━━━━━━━━━━━━━━━━━━━━━━━━━━━━━━━━━━━━━\u001b[0m \u001b[32m505.5/505.5 kB\u001b[0m \u001b[31m22.3 MB/s\u001b[0m eta \u001b[36m0:00:00\u001b[0m\n",
      "\u001b[?25hDownloading tzdata-2024.1-py2.py3-none-any.whl (345 kB)\n",
      "\u001b[2K   \u001b[90m━━━━━━━━━━━━━━━━━━━━━━━━━━━━━━━━━━━━━━━━\u001b[0m \u001b[32m345.4/345.4 kB\u001b[0m \u001b[31m22.8 MB/s\u001b[0m eta \u001b[36m0:00:00\u001b[0m\n",
      "\u001b[?25hInstalling collected packages: pytz, tzdata, pandas\n",
      "Successfully installed pandas-2.2.2 pytz-2024.1 tzdata-2024.1\n",
      "\n",
      "\u001b[1m[\u001b[0m\u001b[34;49mnotice\u001b[0m\u001b[1;39;49m]\u001b[0m\u001b[39;49m A new release of pip is available: \u001b[0m\u001b[31;49m24.0\u001b[0m\u001b[39;49m -> \u001b[0m\u001b[32;49m24.2\u001b[0m\n",
      "\u001b[1m[\u001b[0m\u001b[34;49mnotice\u001b[0m\u001b[1;39;49m]\u001b[0m\u001b[39;49m To update, run: \u001b[0m\u001b[32;49mpip install --upgrade pip\u001b[0m\n",
      "Note: you may need to restart the kernel to use updated packages.\n"
     ]
    }
   ],
   "source": [
    "pip install pandas"
   ]
  },
  {
   "cell_type": "markdown",
   "metadata": {},
   "source": []
  },
  {
   "cell_type": "code",
   "execution_count": 8,
   "metadata": {},
   "outputs": [
    {
     "name": "stdout",
     "output_type": "stream",
     "text": [
      "  review_ID                                             Review  \\\n",
      "0         1  Lập Tr ình H ướng Đối T ượng Với C++     GS: P...   \n",
      "1         2  Thông qua các ngôn ngữ Foxpro,  Pascal, C đa s...   \n",
      "2         3  Lập tr ình h ướng đối t ượng dựa tr ên vi ệc t...   \n",
      "3         4  Khác với h àm và  thủ tục, lớp l à một đơn vị ...   \n",
      "4         5  V ì vậy lớp có thể mô tả các  thực thể một các...   \n",
      "5         6  T ư tưởng lập tr ình h ướng  đối tượng đ ược á...   \n",
      "6         7  Vì v ậy việc nghi ên cứu ph ương pháp l ập trì...   \n",
      "7         8  C ra đ ời năm 1973 với mục đích ban đầu l à để...   \n",
      "8         9  Sau đó C đ ã được sử dụng rộng r ãi trên nhi ề...   \n",
      "9        10  Để đưa C vào th ế giới h ướng h ướng đối t ượn...   \n",
      "\n",
      "                            Metadata  \n",
      "0   LTHDT_PhamVanAt.pdf - Sentence 1  \n",
      "1   LTHDT_PhamVanAt.pdf - Sentence 2  \n",
      "2   LTHDT_PhamVanAt.pdf - Sentence 3  \n",
      "3   LTHDT_PhamVanAt.pdf - Sentence 4  \n",
      "4   LTHDT_PhamVanAt.pdf - Sentence 5  \n",
      "5   LTHDT_PhamVanAt.pdf - Sentence 6  \n",
      "6   LTHDT_PhamVanAt.pdf - Sentence 7  \n",
      "7   LTHDT_PhamVanAt.pdf - Sentence 8  \n",
      "8   LTHDT_PhamVanAt.pdf - Sentence 9  \n",
      "9  LTHDT_PhamVanAt.pdf - Sentence 10  \n"
     ]
    }
   ],
   "source": [
    "import PyPDF2\n",
    "import pandas as pd\n",
    "import re\n",
    "import os\n",
    "\n",
    "# Function to extract text from specific pages of a PDF\n",
    "def extract_text_from_pdf(pdf_file, start_page, end_page):\n",
    "    pdf_reader = PyPDF2.PdfReader(pdf_file)\n",
    "    text = \"\"\n",
    "    for page_num in range(start_page - 1, end_page):\n",
    "        page = pdf_reader.pages[page_num]\n",
    "        text += page.extract_text()\n",
    "    return text\n",
    "\n",
    "# Function to split text into sentences and create a dataframe\n",
    "def create_review_dataframe(text, pdf_filename):\n",
    "    # Use regular expressions to split text into sentences based on punctuation\n",
    "    sentences = re.split(r'(?<=[.!?])\\s+', text.replace('\\n', ' '))  # Replace newlines with spaces\n",
    "    data = {\n",
    "        \"review_ID\": [],\n",
    "        \"Review\": [],\n",
    "        \"Metadata\": []  # Thêm cột Metadata để lưu thông tin phụ\n",
    "    }\n",
    "    for idx, sentence in enumerate(sentences):\n",
    "        if sentence.strip():  # Avoid empty sentences\n",
    "            data[\"review_ID\"].append(idx + 1)\n",
    "            data[\"Review\"].append(sentence.strip())\n",
    "            data[\"Metadata\"].append(f\"{pdf_filename} - Sentence {idx + 1}\")  # Thêm tên file PDF vào metadata\n",
    "    return pd.DataFrame(data)\n",
    "\n",
    "# Path to the folder containing the PDF files\n",
    "data_folder_path = \"Data\"\n",
    "\n",
    "# Initialize an empty DataFrame to store all reviews\n",
    "all_reviews_df = pd.DataFrame(columns=[\"review_ID\", \"Review\", \"Metadata\"])\n",
    "\n",
    "# Loop through all PDF files in the Data folder\n",
    "for filename in os.listdir(data_folder_path):\n",
    "    if filename.endswith(\".pdf\"):\n",
    "        pdf_file_path = os.path.join(data_folder_path, filename)\n",
    "        pdf_text = extract_text_from_pdf(pdf_file_path, start_page=1, end_page=len(PyPDF2.PdfReader(pdf_file_path).pages))  # Extract text from the entire PDF\n",
    "        review_df = create_review_dataframe(pdf_text, filename)\n",
    "        all_reviews_df = pd.concat([all_reviews_df, review_df], ignore_index=True)\n",
    "\n",
    "# Save the combined dataframe to a CSV file\n",
    "all_reviews_df.to_csv(\"reviews.csv\", index=False, encoding=\"utf-8-sig\")\n",
    "\n",
    "# Print the first few rows of the dataframe\n",
    "print(all_reviews_df.head(10))\n"
   ]
  },
  {
   "cell_type": "code",
   "execution_count": 1,
   "metadata": {},
   "outputs": [
    {
     "name": "stdout",
     "output_type": "stream",
     "text": [
      "   review_ID                                             Review     Metadata\n",
      "0          1  1 Object-Oriented Design 1.1 Classes, Objects ...   Sentence 1\n",
      "1          2  An object packages both data and the procedure...   Sentence 2\n",
      "2          3  The procedures are typically called methods or...   Sentence 3\n",
      "3          4  An object performs an operation when it receiv...   Sentence 4\n",
      "4          5  Requests are the only way to get an object to ...   Sentence 5\n",
      "5          6  Operations are the only way to change an objec...   Sentence 6\n",
      "6          7  Because of these restrictions, the object's in...   Sentence 7\n",
      "7          8  Every operation declared by an object speci\fes...   Sentence 8\n",
      "8          9       This is known as the operation's signature .   Sentence 9\n",
      "9         10  The set of all signatures de\fned by an object'...  Sentence 10\n"
     ]
    }
   ],
   "source": [
    "import PyPDF2\n",
    "import pandas as pd\n",
    "import re\n",
    "\n",
    "# Function to extract text from specific pages of a PDF\n",
    "def extract_text_from_pdf(pdf_file, start_page, end_page):\n",
    "    pdf_reader = PyPDF2.PdfReader(pdf_file)\n",
    "    text = \"\"\n",
    "    for page_num in range(start_page - 1, end_page):\n",
    "        page = pdf_reader.pages[page_num]\n",
    "        text += page.extract_text()\n",
    "    return text\n",
    "\n",
    "# Function to split text into sentences and create a dataframe\n",
    "def create_review_dataframe(text):\n",
    "    # Use regular expressions to split text into sentences based on punctuation\n",
    "    sentences = re.split(r'(?<=[.!?])\\s+', text.replace('\\n', ' '))  # Replace newlines with spaces\n",
    "    data = {\n",
    "        \"review_ID\": [],\n",
    "        \"Review\": [],\n",
    "        \"Metadata\": []  # Thêm cột Metadata để lưu thông tin phụ\n",
    "    }\n",
    "    for idx, sentence in enumerate(sentences):\n",
    "        if sentence.strip():  # Avoid empty sentences\n",
    "            data[\"review_ID\"].append(idx + 1)\n",
    "            data[\"Review\"].append(sentence.strip())\n",
    "            data[\"Metadata\"].append(f\"Sentence {idx + 1}\")  # Thêm metadata mô tả cơ bản\n",
    "    return pd.DataFrame(data)\n",
    "\n",
    "# Path to the uploaded PDF file\n",
    "pdf_file_path = \"OOP.pdf\"\n",
    "\n",
    "# Extract text from pages 2 to 5\n",
    "extracted_text = extract_text_from_pdf(pdf_file_path, start_page=2, end_page=5)\n",
    "\n",
    "# Create a dataframe with review_ID, Review, and Metadata columns\n",
    "review_df = create_review_dataframe(extracted_text)\n",
    "\n",
    "# Save the dataframe to a CSV file\n",
    "review_df.to_csv(\"reviews.csv\", index=False)\n",
    "\n",
    "# Print the first few rows of the dataframe\n",
    "print(review_df.head(10))\n"
   ]
  }
 ],
 "metadata": {
  "kernelspec": {
   "display_name": ".venv",
   "language": "python",
   "name": "python3"
  },
  "language_info": {
   "codemirror_mode": {
    "name": "ipython",
    "version": 3
   },
   "file_extension": ".py",
   "mimetype": "text/x-python",
   "name": "python",
   "nbconvert_exporter": "python",
   "pygments_lexer": "ipython3",
   "version": "3.11.8"
  }
 },
 "nbformat": 4,
 "nbformat_minor": 2
}
